{
 "cells": [
  {
   "cell_type": "code",
   "execution_count": null,
   "id": "3854ecc5-a9f9-4f38-afe6-8840f4335bc8",
   "metadata": {},
   "outputs": [],
   "source": [
    "from bs4 import BeautifulSoup as bs\n",
    "import lxml\n",
    "import os"
   ]
  },
  {
   "cell_type": "code",
   "execution_count": null,
   "id": "2fd0ce93-37de-4312-9646-c94191aad63b",
   "metadata": {},
   "outputs": [],
   "source": [
    "path = \"dcp-data/letters/\"\n",
    "files = os.listdir(path)\n",
    "files = files[1:]\n",
    "print(files[1])\n",
    "for file_target in files:\n",
    "    with open(path+file_target,\"r\",encoding=\"utf8\") as file:\n",
    "        print(file)\n",
    "        print(file_target)\n",
    "        content = file.readlines()\n",
    "    #     print(content[0])\n",
    "        content = \"\".join(content)\n",
    "        bs_content = bs(content, \"lxml\")\n",
    "#         print(bs_content.find_all(\"div\")[0])\n",
    "        print(bs_content.find_all(\"div\")[0].find_all(\"div\")[1].p)\n",
    "        print(\"\")\n",
    "        bs_2 = bs_content.find_all(\"div\")[0].find_all(\"div\")[1].p.text\n",
    "        print(bs_2)\n",
    "        break\n",
    "test = bs_content.find_all(\"title\")[0]\n",
    "print(test)"
   ]
  },
  {
   "cell_type": "code",
   "execution_count": null,
   "id": "5b2cf6e6-0718-442e-b657-921b5463df7e",
   "metadata": {},
   "outputs": [],
   "source": []
  }
 ],
 "metadata": {
  "kernelspec": {
   "display_name": "Python 3",
   "language": "python",
   "name": "python3"
  },
  "language_info": {
   "codemirror_mode": {
    "name": "ipython",
    "version": 3
   },
   "file_extension": ".py",
   "mimetype": "text/x-python",
   "name": "python",
   "nbconvert_exporter": "python",
   "pygments_lexer": "ipython3",
   "version": "3.8.8"
  }
 },
 "nbformat": 4,
 "nbformat_minor": 5
}
