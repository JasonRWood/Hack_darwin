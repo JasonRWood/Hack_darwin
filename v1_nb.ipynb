{
 "cells": [
  {
   "cell_type": "code",
   "execution_count": 11,
   "id": "3854ecc5-a9f9-4f38-afe6-8840f4335bc8",
   "metadata": {},
   "outputs": [
    {
     "name": "stderr",
     "output_type": "stream",
     "text": [
      "[nltk_data] Downloading package stopwords to\n",
      "[nltk_data]     C:\\Users\\Meg\\AppData\\Roaming\\nltk_data...\n",
      "[nltk_data]   Unzipping corpora\\stopwords.zip.\n"
     ]
    }
   ],
   "source": [
    "from bs4 import BeautifulSoup as bs\n",
    "import lxml\n",
    "import nltk\n",
    "import os\n",
    "import string\n",
    "from nltk.corpus import stopwords\n",
    "nltk.download('stopwords')\n",
    "from nltk.tokenize import word_tokenize"
   ]
  },
  {
   "cell_type": "code",
   "execution_count": null,
   "id": "81183ef0-ff74-4d90-adfa-ad1b117da3c5",
   "metadata": {},
   "outputs": [],
   "source": [
    "def extract_info(filepath):\n",
    "    \n",
    "    dictionary_of_interest = {}\n",
    "    \n",
    "    with open(filepath,\"r\",encoding=\"utf8\") as file:\n",
    "            \n",
    "        content = file.readlines()\n",
    "        content = \"\".join(content)\n",
    "        \n",
    "        bs_content = bs(content, \"lxml\")\n",
    "        \n",
    "        unique_id = bs_content.find(\"tei\").attrs[\"xml:id\"]\n",
    "        \n",
    "        dictionary_of_interest[\"unique_id\"] = unique_id\n",
    "        \n",
    "        letter_details = bs_content.find_all(\"correspaction\")\n",
    "        \n",
    "        for deets in letter_details:\n",
    "            \n",
    "            if deets.attrs[\"type\"] == \"sent\":\n",
    "                \n",
    "                if \"when\" in list(deets.date.attrs.keys()):\n",
    "                    dictionary_of_interest[\"date\"] = deets.date.attrs[\"when\"]\n",
    "                \n",
    "                try:\n",
    "                    dictionary_of_interest[\"sender\"] = deets.persname.text\n",
    "                except AttributeError:\n",
    "                    dictionary_of_interest[\"reciever\"] = deets.orgname.text\n",
    "                \n",
    "                try:\n",
    "                    dictionary_of_interest[\"sender_bio\"] = deets.persname.attrs[\"key\"]\n",
    "                except AttributeError:\n",
    "                    dictionary_of_interest[\"sender_bio\"] = \"None Available\"\n",
    "                    \n",
    "            if deets.attrs[\"type\"] == \"received\":\n",
    "                \n",
    "                try:\n",
    "                    dictionary_of_interest[\"reciever\"] = deets.persname.text\n",
    "                except AttributeError:\n",
    "                    dictionary_of_interest[\"reciever\"] = deets.orgname.text\n",
    "                    \n",
    "                try:\n",
    "                    dictionary_of_interest[\"reciever_bio\"] = deets.persname.attrs[\"key\"]\n",
    "                except AttributeError:\n",
    "                    dictionary_of_interest[\"reciever_bio\"] = \"None Available\"\n",
    "                    \n",
    "        free_text = bs_content.find_all(\"div\",{\"type\":\"transcription\"})[0].p.text\n",
    "\n",
    "        # cleaning of the data\n",
    "        dictionary_of_interest[\"body\"] = (free_text.lower()).translate(str.maketrans('','',string.punctuation))\n",
    "        text_tokens = word_tokenize(dictionary_of_interest[\"body\"])\n",
    "        no_stop_words = [word for word in text_tokens if not word in stopwords.words()]\n",
    "        print(no_stop_words)\n",
    "\n",
    "        file.close()\n",
    "        \n",
    "    return dictionary_of_interest"
   ]
  },
  {
   "cell_type": "code",
   "execution_count": null,
   "id": "2fd0ce93-37de-4312-9646-c94191aad63b",
   "metadata": {},
   "outputs": [
    {
     "name": "stdout",
     "output_type": "stream",
     "text": [
      "['much', 'interested', 'letter—', 'made', 'little', 'slits', 'leaves', 'sake', 'ascertaining', 'direction', 'motor', 'impulse', 'transmitted', 'found', 'lobe', 'injured', 'side', 'move', 'irritating', 'sensitive', 'filaments', 'side', 'opposite', 'lobe', 'move', 'case', 'like', 'better', 'judge', 'attributed', 'result', 'injury', 'affecting', 'power', 'movement', 'greater', 'degree', 'power', 'transmission', 'motor', 'impulse—', 'find', 'two', 'analogous', 'facts', 'drosera', 'seems', 'truly', 'reflex', 'action—', 'see', 'doubt', 'nerves']\n",
      "['southampton', 'said', 'would', 'give', 'address', 'artist', 'employ', 'draw', 'microscope', 'pay', '5s', 'hour', 'early', 'answer', 'would', 'much', 'oblige', 'would', 'kindly', 'trouble—', 'objects', 'chiefly', 'drawn', 'minute', 'corallines', 'minute', 'articulata', 'mollusca', 'various', 'organs', 'please', 'say', 'whether', 'think', 'artist', 'would', 'things', 'well', 'different', 'style', 'hard', 'precise', 'wonderfully', 'beautiful', 'sections', 'exhibited', 'southampton—', 'hope', 'excuse', 'trouble—', 'shd', 'communication', 'artist', 'wd', 'mention', 'probable', 'applicant', 'assistance']\n",
      "['see', 'forgotten', 'return', 'playfairs', 'letter—which', 'inclose—', 'sent', 'copy', 'last', 'letter', 'you—but', 'reach', 'days', 'return', 'london', 'meanwhile', 'saw', 'lord', 'cardwell', 'house', 'commons', 'friday', 'last', 'week']\n",
      "['grateful', 'letter', 'dodge', 'making', 'incisions', 'new', 'shall', 'try']\n",
      "['beifolgend', 'erhalten', 'hiesigen', 'collegen', 'freunde', 'fritz', 'schultze', 'schrift', 'betitelt', '“', 'kant', 'darwin', '”', 'bezweifle', 'interessiren', 'ersehen', 'daraus', 'grösster', 'deutscher', 'philosoph', 'schon', 'mehr', 'jahrhundert', 'ideen', 'vertrat', 'ersten', 'klaren', 'conceptionen', 'descendenz', 'selectionstheorie', 'betrachten', 'empfehle', 'besonders', '24', '25', '26', '27', '28', '32', '38', '46', '47', '48–50', '55–58', '61', '—1775', '65', '76', '84', 'etc']\n",
      "['much', 'obliged', 'great', 'kindness', 'made', 'm〈e〉', 'beautiful', 'present', 'fenderstool', '1', 'line', 'illeg', 'drawing', 'room', '2', 'lines', 'illeg', 'grateful', 'going', 'much', 'trouble', 'venture', 'send', 'soon', 'copy', 'book', 'published', 'viz', 'insectivorous', 'plants', 'book', 'way', 'beautiful', 'inhuman', 'expect', 'read', 'it—']\n",
      "['telegraphed', 'bring', 'bronn', 'brought', 'wrong', 'work', 'hunt', 'passage', 'tails', 'mice', 'believe', 'passage']\n",
      "['nothing', 'convincing', 'clear', 'conclusions', 'malthus', 'yet', 'every', 'foolish', 'author', 'tries', 'disprove']\n",
      "['werke', 'grössten', 'deutschen', 'philosophen', 'immanuel', 'kant', '’', 'unerschöpfliche', 'fundgrube', 'grosser', 'fruchttragender', 'gedanken', 'handle', 'moralische', 'religiöse', 'aesthetische', 'naturwissenschaftliche', 'aufgaben', 'nachdem', 'philosophen', 'fichte', 'schelling', 'hegel', 'deutschland', 'vergessen', 'miscredit', 'gekommen', 'steht', 'kant', 'gewaltiges', 'alpengebirge', 'thäler', 'einzuwandern', 'gipfel', 'besteigen', 'pflicht', 'strebsamen', 'deutschen', 'studenten', 'andererseits', '“', 'darwinistische', 'theorie', '”', 'mehr', 'mehr', 'geister', 'gewinnt', 'herrlich', 'wundervoll', 'kant', '’', 'philosophie', 'darwinismus', 'brücke', 'befindet', 'erst', 'künstlich', 'anzulegen', 'brauchen', 'kant', 'gebaut', 'alten', 'kirchenväter', 'heraklit', 'socrates', 'platon', '“', 'christen', 'christus', '”', 'sahen', 'luther', 'reformatoren', '“', 'reformatoren', 'reformation', '”', 'suchten', 'mittelalterlichen', 'schriftstellern', 'fanden', 'vorgänger', 'zeugen', 'wahrheit', 'lehren', 'benutzten—so', 'kant', '“', 'darwinisten', 'darwin', '”', '“', 'zeuger', 'wahrheit', 'lehre', '”', 'sehen', 'wirkungsvoll', 'benutzen', 'hoffe', 'kant', 'ansehen', 'deutschland', 'parteien', 'überaus', 'grosses', 'darwinismus', 'bekehren', 'bekehrt', 'wenigstens', 'widerstand', 'schwächen', 'unschädlich']\n",
      "['another', 'point', 'may', 'interest']\n",
      "['letter', 'arrived', 'posting', 'first']\n",
      "['part', 'book', 'droseraceæ', 'printed', 'wd', 'use', 'sending', 'details', 'observations—', 'judging', 'ferment', 'present', 'secretion', 'rotundifolia', 'glands', 'excited', 'absorbing', 'peptogene', 'schiff', 'believe', 'ferment', 'ready', 'secreted', 'drosophyllum', 'binata', 'dichotoma', 'nearly', 'allied', 'drosophyllum', 'sp', 'drosera', 'ferment', 'may', 'ready', 'secreted', 'species—']\n",
      "['much', 'obliged', 'courteous', 'letter', 'present', 'new', 'work—', 'extraordinary', 'honour', 'coupled', 'manner', 'illustrious', 'kant', 'hope', 'soon', 'read', 'say', 'views', 'natural', 'selection', 'however', 'poor', 'german', 'scholar', 'understand', 'deep', 'metaphysical', 'discussion']\n",
      "['aldrovanda', 'rootless', 'floats', 'freely', 'catches', 'abundant', 'prey', 'various', 'parts', 'world—', 'wait', 'book', 'appears', 'think', 'find', 'abundant', 'evidence', 'absorption—', 'separation', 'ferments', 'seems', 'capital', 'discovery—', 'strength', 'give', 'evidence', 'absorption']\n",
      "['hear', '4', 'weeks', 'return', 'england', 'though', 'nothing', 'particular', 'say—i', 'resist', 'writing', 'congratulate', 'safe', 'arrival', 'bad', 'passage', 'home', 'express', 'sincere', 'hope', 'mrs', 'fitzroy', 'family', 'well—', 'london', 'yesterday—for', 'first', 'time—since', 'heard', 'return', 'found', 'address', 'admiralty', 'dover', 'st', 'servant', 'told', 'direct', 'done', 'got', 'pamphlet', 'day', 'much', 'interested', 'heard', 'comparatively', 'little', 'new', 'zealand', 'fear', 'must', 'undergone', 'much', 'trouble', 'vexation', 'repaid', 'except', 'consciousness', 'motives', 'sacrifices', 'aware', 'made', 'accepting', 'governorship—']\n",
      "['thanks', 'letter', 'received']\n",
      "['think', 'duty', 'thank', 'complaisance', 'inform', 'new', 'edition', '“', 'variations', 'domestication', '”', 'revised', 'published', 'beginning', '9ber', 'next', 'may', 'cliches', 'mr', 'murray', '10£', 'payables', 'delivery']\n",
      "['send', 'post', 'clean', 'sheets', 'half', 'book', 'insectivorous', 'plants', 'remaining', 'sheets', 'sent', '2', 'weeks', 'sooner', 'finally', 'corrected', 'last', 'page', 'without', 'index', '453', 'able', 'judge', 'whether', 'book', 'worth', 'translation', 'please', 'let', 'hear', 'decided', 'latter', 'half', 'think', 'interesting', 'first', 'half', 'rather', 'diversified', 'much', 'detail', 'much', 'less', 'small', 'type', 'book', 'wearied', 'much', 'cost', 'much', 'labour']\n",
      "['cut', 'paper', 'distance', 'sent', 'yesterday', 'feel', 'flattered', 'bracketting']\n",
      "['thank', 'extremely', 'kind', 'note—', 'answer', 'told', 'might', 'former', 'notes', 'abinger', 'quite', 'worn', 'out—', 'wish', 'cd', 'help', 'binata', 'hardly', 'know', 'lady', 'nevill', 'well', 'enough', 'borrow', 'plants', 'third', 'party—']\n",
      "['heard', 'henrietta', 'saw', 'coll', 'surgeons', 'seemed', 'pretty', 'well—', 'farrer', 'kindly', 'lent', 'us', 'house', 'month', 'write', 'know', 'whether', 'chance', 'would', 'please', 'bring', 'harriet', 'inclined', 'saturday', '26th', 'sunday', 'know', 'shd', 'rejoice', 'see']\n",
      "['back', 'month', 'never', 'yet', 'written', 'often', 'taken', 'pen', 'purpose—but', 'overwhelmed', 'work', 'family', 'matters', 'visitors', 'visiting', 'last', 'week', 'dyer', '’', 'appointment', 'came—for', 'way', 'feel', 'wholly', 'indebted', 'farrer', 'instrumentality', 'inducting', 'office', 'hope', 'go', 'smooth', 'see', 'great', 'relief', 'view—']\n",
      "['sorry', 'say', 'impossible', 'return', 'sunday', 'gomshall', 'station', 'might', 'believe', 'dorking', '5', 'miles', 'wd', 'never', 'worth', 'especially', 'quite', 'like', 'offer', 'mr', 'farrer', '’', 'horses', 'sunday—']\n"
     ]
    },
    {
     "ename": "KeyboardInterrupt",
     "evalue": "",
     "output_type": "error",
     "traceback": [
      "\u001B[1;31m---------------------------------------------------------------------------\u001B[0m",
      "\u001B[1;31mKeyboardInterrupt\u001B[0m                         Traceback (most recent call last)",
      "Input \u001B[1;32mIn [31]\u001B[0m, in \u001B[0;36m<cell line: 6>\u001B[1;34m()\u001B[0m\n\u001B[0;32m      5\u001B[0m i \u001B[38;5;241m=\u001B[39m \u001B[38;5;241m0\u001B[39m\n\u001B[0;32m      6\u001B[0m \u001B[38;5;28;01mfor\u001B[39;00m file_target \u001B[38;5;129;01min\u001B[39;00m files:\n\u001B[1;32m----> 7\u001B[0m     dict_test \u001B[38;5;241m=\u001B[39m \u001B[43mextract_info\u001B[49m\u001B[43m(\u001B[49m\u001B[43mpath\u001B[49m\u001B[38;5;241;43m+\u001B[39;49m\u001B[43mfile_target\u001B[49m\u001B[43m)\u001B[49m\n\u001B[0;32m      8\u001B[0m     \u001B[38;5;66;03m#print(dict_test)\u001B[39;00m\n\u001B[0;32m      9\u001B[0m     \u001B[38;5;28;01mif\u001B[39;00m i \u001B[38;5;241m==\u001B[39m \u001B[38;5;241m100\u001B[39m:\n",
      "Input \u001B[1;32mIn [30]\u001B[0m, in \u001B[0;36mextract_info\u001B[1;34m(filepath)\u001B[0m\n\u001B[0;32m     46\u001B[0m dictionary_of_interest[\u001B[38;5;124m\"\u001B[39m\u001B[38;5;124mbody\u001B[39m\u001B[38;5;124m\"\u001B[39m] \u001B[38;5;241m=\u001B[39m (free_text\u001B[38;5;241m.\u001B[39mlower())\u001B[38;5;241m.\u001B[39mtranslate(\u001B[38;5;28mstr\u001B[39m\u001B[38;5;241m.\u001B[39mmaketrans(\u001B[38;5;124m'\u001B[39m\u001B[38;5;124m'\u001B[39m,\u001B[38;5;124m'\u001B[39m\u001B[38;5;124m'\u001B[39m,string\u001B[38;5;241m.\u001B[39mpunctuation))\n\u001B[0;32m     47\u001B[0m text_tokens \u001B[38;5;241m=\u001B[39m word_tokenize(dictionary_of_interest[\u001B[38;5;124m\"\u001B[39m\u001B[38;5;124mbody\u001B[39m\u001B[38;5;124m\"\u001B[39m])\n\u001B[1;32m---> 48\u001B[0m no_stop_words \u001B[38;5;241m=\u001B[39m [word \u001B[38;5;28;01mfor\u001B[39;00m word \u001B[38;5;129;01min\u001B[39;00m text_tokens \u001B[38;5;28;01mif\u001B[39;00m \u001B[38;5;129;01mnot\u001B[39;00m word \u001B[38;5;129;01min\u001B[39;00m stopwords\u001B[38;5;241m.\u001B[39mwords()]\n\u001B[0;32m     49\u001B[0m \u001B[38;5;28mprint\u001B[39m(no_stop_words)\n\u001B[0;32m     51\u001B[0m file\u001B[38;5;241m.\u001B[39mclose()\n",
      "Input \u001B[1;32mIn [30]\u001B[0m, in \u001B[0;36m<listcomp>\u001B[1;34m(.0)\u001B[0m\n\u001B[0;32m     46\u001B[0m dictionary_of_interest[\u001B[38;5;124m\"\u001B[39m\u001B[38;5;124mbody\u001B[39m\u001B[38;5;124m\"\u001B[39m] \u001B[38;5;241m=\u001B[39m (free_text\u001B[38;5;241m.\u001B[39mlower())\u001B[38;5;241m.\u001B[39mtranslate(\u001B[38;5;28mstr\u001B[39m\u001B[38;5;241m.\u001B[39mmaketrans(\u001B[38;5;124m'\u001B[39m\u001B[38;5;124m'\u001B[39m,\u001B[38;5;124m'\u001B[39m\u001B[38;5;124m'\u001B[39m,string\u001B[38;5;241m.\u001B[39mpunctuation))\n\u001B[0;32m     47\u001B[0m text_tokens \u001B[38;5;241m=\u001B[39m word_tokenize(dictionary_of_interest[\u001B[38;5;124m\"\u001B[39m\u001B[38;5;124mbody\u001B[39m\u001B[38;5;124m\"\u001B[39m])\n\u001B[1;32m---> 48\u001B[0m no_stop_words \u001B[38;5;241m=\u001B[39m [word \u001B[38;5;28;01mfor\u001B[39;00m word \u001B[38;5;129;01min\u001B[39;00m text_tokens \u001B[38;5;28;01mif\u001B[39;00m \u001B[38;5;129;01mnot\u001B[39;00m word \u001B[38;5;129;01min\u001B[39;00m \u001B[43mstopwords\u001B[49m\u001B[38;5;241;43m.\u001B[39;49m\u001B[43mwords\u001B[49m\u001B[43m(\u001B[49m\u001B[43m)\u001B[49m]\n\u001B[0;32m     49\u001B[0m \u001B[38;5;28mprint\u001B[39m(no_stop_words)\n\u001B[0;32m     51\u001B[0m file\u001B[38;5;241m.\u001B[39mclose()\n",
      "File \u001B[1;32m~\\AppData\\Local\\Programs\\Python\\Python39\\lib\\site-packages\\nltk\\corpus\\reader\\wordlist.py:21\u001B[0m, in \u001B[0;36mWordListCorpusReader.words\u001B[1;34m(self, fileids, ignore_lines_startswith)\u001B[0m\n\u001B[0;32m     18\u001B[0m \u001B[38;5;28;01mdef\u001B[39;00m \u001B[38;5;21mwords\u001B[39m(\u001B[38;5;28mself\u001B[39m, fileids\u001B[38;5;241m=\u001B[39m\u001B[38;5;28;01mNone\u001B[39;00m, ignore_lines_startswith\u001B[38;5;241m=\u001B[39m\u001B[38;5;124m\"\u001B[39m\u001B[38;5;130;01m\\n\u001B[39;00m\u001B[38;5;124m\"\u001B[39m):\n\u001B[0;32m     19\u001B[0m     \u001B[38;5;28;01mreturn\u001B[39;00m [\n\u001B[0;32m     20\u001B[0m         line\n\u001B[1;32m---> 21\u001B[0m         \u001B[38;5;28;01mfor\u001B[39;00m line \u001B[38;5;129;01min\u001B[39;00m line_tokenize(\u001B[38;5;28;43mself\u001B[39;49m\u001B[38;5;241;43m.\u001B[39;49m\u001B[43mraw\u001B[49m\u001B[43m(\u001B[49m\u001B[43mfileids\u001B[49m\u001B[43m)\u001B[49m)\n\u001B[0;32m     22\u001B[0m         \u001B[38;5;28;01mif\u001B[39;00m \u001B[38;5;129;01mnot\u001B[39;00m line\u001B[38;5;241m.\u001B[39mstartswith(ignore_lines_startswith)\n\u001B[0;32m     23\u001B[0m     ]\n",
      "File \u001B[1;32m~\\AppData\\Local\\Programs\\Python\\Python39\\lib\\site-packages\\nltk\\corpus\\reader\\api.py:218\u001B[0m, in \u001B[0;36mCorpusReader.raw\u001B[1;34m(self, fileids)\u001B[0m\n\u001B[0;32m    216\u001B[0m contents \u001B[38;5;241m=\u001B[39m []\n\u001B[0;32m    217\u001B[0m \u001B[38;5;28;01mfor\u001B[39;00m f \u001B[38;5;129;01min\u001B[39;00m fileids:\n\u001B[1;32m--> 218\u001B[0m     \u001B[38;5;28;01mwith\u001B[39;00m \u001B[38;5;28;43mself\u001B[39;49m\u001B[38;5;241;43m.\u001B[39;49m\u001B[43mopen\u001B[49m\u001B[43m(\u001B[49m\u001B[43mf\u001B[49m\u001B[43m)\u001B[49m \u001B[38;5;28;01mas\u001B[39;00m fp:\n\u001B[0;32m    219\u001B[0m         contents\u001B[38;5;241m.\u001B[39mappend(fp\u001B[38;5;241m.\u001B[39mread())\n\u001B[0;32m    220\u001B[0m \u001B[38;5;28;01mreturn\u001B[39;00m concat(contents)\n",
      "File \u001B[1;32m~\\AppData\\Local\\Programs\\Python\\Python39\\lib\\site-packages\\nltk\\corpus\\reader\\api.py:231\u001B[0m, in \u001B[0;36mCorpusReader.open\u001B[1;34m(self, file)\u001B[0m\n\u001B[0;32m    223\u001B[0m \u001B[38;5;124;03m\"\"\"\u001B[39;00m\n\u001B[0;32m    224\u001B[0m \u001B[38;5;124;03mReturn an open stream that can be used to read the given file.\u001B[39;00m\n\u001B[0;32m    225\u001B[0m \u001B[38;5;124;03mIf the file's encoding is not None, then the stream will\u001B[39;00m\n\u001B[1;32m   (...)\u001B[0m\n\u001B[0;32m    228\u001B[0m \u001B[38;5;124;03m:param file: The file identifier of the file to read.\u001B[39;00m\n\u001B[0;32m    229\u001B[0m \u001B[38;5;124;03m\"\"\"\u001B[39;00m\n\u001B[0;32m    230\u001B[0m encoding \u001B[38;5;241m=\u001B[39m \u001B[38;5;28mself\u001B[39m\u001B[38;5;241m.\u001B[39mencoding(file)\n\u001B[1;32m--> 231\u001B[0m stream \u001B[38;5;241m=\u001B[39m \u001B[38;5;28;43mself\u001B[39;49m\u001B[38;5;241;43m.\u001B[39;49m\u001B[43m_root\u001B[49m\u001B[38;5;241;43m.\u001B[39;49m\u001B[43mjoin\u001B[49m\u001B[43m(\u001B[49m\u001B[43mfile\u001B[49m\u001B[43m)\u001B[49m\u001B[38;5;241m.\u001B[39mopen(encoding)\n\u001B[0;32m    232\u001B[0m \u001B[38;5;28;01mreturn\u001B[39;00m stream\n",
      "File \u001B[1;32m~\\AppData\\Local\\Programs\\Python\\Python39\\lib\\site-packages\\nltk\\data.py:334\u001B[0m, in \u001B[0;36mFileSystemPathPointer.join\u001B[1;34m(self, fileid)\u001B[0m\n\u001B[0;32m    332\u001B[0m \u001B[38;5;28;01mdef\u001B[39;00m \u001B[38;5;21mjoin\u001B[39m(\u001B[38;5;28mself\u001B[39m, fileid):\n\u001B[0;32m    333\u001B[0m     _path \u001B[38;5;241m=\u001B[39m os\u001B[38;5;241m.\u001B[39mpath\u001B[38;5;241m.\u001B[39mjoin(\u001B[38;5;28mself\u001B[39m\u001B[38;5;241m.\u001B[39m_path, fileid)\n\u001B[1;32m--> 334\u001B[0m     \u001B[38;5;28;01mreturn\u001B[39;00m \u001B[43mFileSystemPathPointer\u001B[49m\u001B[43m(\u001B[49m\u001B[43m_path\u001B[49m\u001B[43m)\u001B[49m\n",
      "File \u001B[1;32m~\\AppData\\Local\\Programs\\Python\\Python39\\lib\\site-packages\\nltk\\compat.py:41\u001B[0m, in \u001B[0;36mpy3_data.<locals>._decorator\u001B[1;34m(*args, **kwargs)\u001B[0m\n\u001B[0;32m     39\u001B[0m \u001B[38;5;28;01mdef\u001B[39;00m \u001B[38;5;21m_decorator\u001B[39m(\u001B[38;5;241m*\u001B[39margs, \u001B[38;5;241m*\u001B[39m\u001B[38;5;241m*\u001B[39mkwargs):\n\u001B[0;32m     40\u001B[0m     args \u001B[38;5;241m=\u001B[39m (args[\u001B[38;5;241m0\u001B[39m], add_py3_data(args[\u001B[38;5;241m1\u001B[39m])) \u001B[38;5;241m+\u001B[39m args[\u001B[38;5;241m2\u001B[39m:]\n\u001B[1;32m---> 41\u001B[0m     \u001B[38;5;28;01mreturn\u001B[39;00m init_func(\u001B[38;5;241m*\u001B[39margs, \u001B[38;5;241m*\u001B[39m\u001B[38;5;241m*\u001B[39mkwargs)\n",
      "File \u001B[1;32m~\\AppData\\Local\\Programs\\Python\\Python39\\lib\\site-packages\\nltk\\data.py:311\u001B[0m, in \u001B[0;36mFileSystemPathPointer.__init__\u001B[1;34m(self, _path)\u001B[0m\n\u001B[0;32m    304\u001B[0m \u001B[38;5;124;03m\"\"\"\u001B[39;00m\n\u001B[0;32m    305\u001B[0m \u001B[38;5;124;03mCreate a new path pointer for the given absolute path.\u001B[39;00m\n\u001B[0;32m    306\u001B[0m \n\u001B[0;32m    307\u001B[0m \u001B[38;5;124;03m:raise IOError: If the given path does not exist.\u001B[39;00m\n\u001B[0;32m    308\u001B[0m \u001B[38;5;124;03m\"\"\"\u001B[39;00m\n\u001B[0;32m    310\u001B[0m _path \u001B[38;5;241m=\u001B[39m os\u001B[38;5;241m.\u001B[39mpath\u001B[38;5;241m.\u001B[39mabspath(_path)\n\u001B[1;32m--> 311\u001B[0m \u001B[38;5;28;01mif\u001B[39;00m \u001B[38;5;129;01mnot\u001B[39;00m \u001B[43mos\u001B[49m\u001B[38;5;241;43m.\u001B[39;49m\u001B[43mpath\u001B[49m\u001B[38;5;241;43m.\u001B[39;49m\u001B[43mexists\u001B[49m\u001B[43m(\u001B[49m\u001B[43m_path\u001B[49m\u001B[43m)\u001B[49m:\n\u001B[0;32m    312\u001B[0m     \u001B[38;5;28;01mraise\u001B[39;00m \u001B[38;5;167;01mOSError\u001B[39;00m(\u001B[38;5;124m\"\u001B[39m\u001B[38;5;124mNo such file or directory: \u001B[39m\u001B[38;5;132;01m%r\u001B[39;00m\u001B[38;5;124m\"\u001B[39m \u001B[38;5;241m%\u001B[39m _path)\n\u001B[0;32m    313\u001B[0m \u001B[38;5;28mself\u001B[39m\u001B[38;5;241m.\u001B[39m_path \u001B[38;5;241m=\u001B[39m _path\n",
      "File \u001B[1;32m~\\AppData\\Local\\Programs\\Python\\Python39\\lib\\genericpath.py:19\u001B[0m, in \u001B[0;36mexists\u001B[1;34m(path)\u001B[0m\n\u001B[0;32m     17\u001B[0m \u001B[38;5;124;03m\"\"\"Test whether a path exists.  Returns False for broken symbolic links\"\"\"\u001B[39;00m\n\u001B[0;32m     18\u001B[0m \u001B[38;5;28;01mtry\u001B[39;00m:\n\u001B[1;32m---> 19\u001B[0m     \u001B[43mos\u001B[49m\u001B[38;5;241;43m.\u001B[39;49m\u001B[43mstat\u001B[49m\u001B[43m(\u001B[49m\u001B[43mpath\u001B[49m\u001B[43m)\u001B[49m\n\u001B[0;32m     20\u001B[0m \u001B[38;5;28;01mexcept\u001B[39;00m (\u001B[38;5;167;01mOSError\u001B[39;00m, \u001B[38;5;167;01mValueError\u001B[39;00m):\n\u001B[0;32m     21\u001B[0m     \u001B[38;5;28;01mreturn\u001B[39;00m \u001B[38;5;28;01mFalse\u001B[39;00m\n",
      "\u001B[1;31mKeyboardInterrupt\u001B[0m: "
     ]
    }
   ],
   "source": [
    "path = \"dcp-data/letters/\"\n",
    "files = os.listdir(path)\n",
    "files = files[1:]\n",
    "# print(files[1])\n",
    "i = 0\n",
    "for file_target in files:\n",
    "    dict_test = extract_info(path+file_target)\n",
    "    print(dict_test)\n",
    "    if i == 1:\n",
    "        break\n",
    "    else:\n",
    "        i += 1\n"
   ]
  },
  {
   "cell_type": "code",
   "execution_count": null,
   "id": "5b2cf6e6-0718-442e-b657-921b5463df7e",
   "metadata": {},
   "outputs": [],
   "source": []
  }
 ],
 "metadata": {
  "kernelspec": {
   "display_name": "Python 3",
   "language": "python",
   "name": "python3"
  },
  "language_info": {
   "codemirror_mode": {
    "name": "ipython",
    "version": 3
   },
   "file_extension": ".py",
   "mimetype": "text/x-python",
   "name": "python",
   "nbconvert_exporter": "python",
   "pygments_lexer": "ipython3",
   "version": "3.8.8"
  }
 },
 "nbformat": 4,
 "nbformat_minor": 5
}