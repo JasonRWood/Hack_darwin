{
 "cells": [
  {
   "cell_type": "code",
   "execution_count": 1,
   "id": "3854ecc5-a9f9-4f38-afe6-8840f4335bc8",
   "metadata": {},
   "outputs": [],
   "source": [
    "from bs4 import BeautifulSoup as bs\n",
    "import lxml\n",
    "import os"
   ]
  },
  {
   "cell_type": "code",
   "execution_count": 43,
   "id": "81183ef0-ff74-4d90-adfa-ad1b117da3c5",
   "metadata": {},
   "outputs": [],
   "source": [
    "def extract_info(filepath):\n",
    "    \n",
    "    dictionary_of_interest = {}\n",
    "    \n",
    "    with open(filepath,\"r\",encoding=\"utf8\") as file:\n",
    "            \n",
    "        content = file.readlines()\n",
    "        content = \"\".join(content)\n",
    "        \n",
    "        bs_content = bs(content, \"lxml\")\n",
    "        \n",
    "        letter_details = bs_content.find_all(\"correspaction\")\n",
    "        \n",
    "        for deets in letter_details:\n",
    "            \n",
    "            if deets.attrs[\"type\"] == \"sent\":\n",
    "                \n",
    "                if \"when\" in list(deets.date.attrs.keys()):\n",
    "                    dictionary_of_interest[\"date\"] = deets.date.attrs[\"when\"]\n",
    "                \n",
    "                dictionary_of_interest[\"sender\"] = deets.persname.text\n",
    "                \n",
    "                try:\n",
    "                    dictionary_of_interest[\"sender_bio\"] = deets.persname.attrs[\"key\"]\n",
    "                except KeyError:\n",
    "                    dictionary_of_interest[\"sender_bio\"] = \"None Available\"\n",
    "                    \n",
    "            if deets.attrs[\"type\"] == \"received\":\n",
    "                \n",
    "                dictionary_of_interest[\"reciever\"] = deets.persname.text\n",
    "                \n",
    "                try:\n",
    "                    dictionary_of_interest[\"reciever_bio\"] = deets.persname.attrs[\"key\"]\n",
    "                except KeyError:\n",
    "                    dictionary_of_interest[\"reciever_bio\"] = \"None Available\"\n",
    "                    \n",
    "        free_text = bs_content.find_all(\"div\",{\"type\":\"transcription\"})[0].p.text\n",
    "                \n",
    "        dictionary_of_interest[\"body\"] = free_text\n",
    "        file.close()\n",
    "        \n",
    "    return dictionary_of_interest"
   ]
  },
  {
   "cell_type": "code",
   "execution_count": 44,
   "id": "2fd0ce93-37de-4312-9646-c94191aad63b",
   "metadata": {},
   "outputs": [
    {
     "name": "stdout",
     "output_type": "stream",
     "text": [
      "{'date': '1821-10-27', 'sender': 'Congreve, Mary', 'sender_bio': '../nameregs/nameregs_1037.xml', 'reciever': 'Darwin, C. R.', 'reciever_bio': '../nameregs/nameregs_1.xml', 'body': 'I find I have only just time to thank you for your entertaining letter, as if I take time to write what I intended I shall not be able to get it franked & I’m sure it will not be worth the postage, I should have liked to have seen the good Gentleman Grin that you mention there is no doubt but those that were out of the Scrape were much amused, I assure you I wish’d much you had been of our party on thursday night at the play, I think you would have been highly entertained both with the Coronation, and the entertainment of Monsieur Tonson, I never laugh’d so much at a play I think, I dare say you have been much amused with Mr. Alexander & I hope I shall hear some specimenes of his art from you when I return, as I dare say it is practiced in School Lane, so god bless you as I am obliged to conclude this ever believe me | Yours truly M Congreve  '}\n",
      "<persname key=\"../nameregs/nameregs_1037.xml\" resp=\"high\">Congreve, Mary</persname>\n"
     ]
    }
   ],
   "source": [
    "path = \"dcp-data/letters/\"\n",
    "files = os.listdir(path)\n",
    "files = files[1:]\n",
    "# print(files[1])\n",
    "for file_target in files:\n",
    "    dict_test = extract_info(path+file_target)\n",
    "    print(dict_test)\n",
    "    break\n",
    "#     with open(path+file_target,\"r\",encoding=\"utf8\") as file:\n",
    "        \n",
    "#         print(file)\n",
    "#         print(file_target)\n",
    "#         content = file.readlines()\n",
    "#         content = \"\".join(content)\n",
    "#         bs_content = bs(content, \"lxml\")\n",
    "#         temp = bs_content.find_all(\"correspaction\")\n",
    "#         print(temp)\n",
    "#         print(\"\")\n",
    "#         for t in temp:\n",
    "#             print(t)\n",
    "#             print(t.attrs)\n",
    "#             print(t.persname.text)\n",
    "#             print(t.persname.attrs[\"key\"])\n",
    "#             if t.attrs[\"type\"] == \"sent\":\n",
    "#                 print(t.date.attrs[\"when\"])\n",
    "#             print(\"\")\n",
    "#             print(\"loop\")\n",
    "# #         test = [0].find(\"persname\")\n",
    "#         temp_dict = test.attrs\n",
    "#         print(temp_dict[\"key\"])\n",
    "#         print(bs_content.find_all(\"div\",{\"type\":\"transcription\"})[0].p.text)\n",
    "#         print(bs_content.find_all(\"div\")[0].find_all(\"div\")[1].p)\n",
    "#         print(\"\")\n",
    "#         bs_2 = bs_content.find_all(\"div\")[0].find_all(\"div\")[1].p.text\n",
    "#         print(bs_2)\n",
    "#         file.close()\n",
    "#         break\n",
    "# test = bs_content.find_all(\"title\")[0]\n",
    "print(test)"
   ]
  },
  {
   "cell_type": "code",
   "execution_count": null,
   "id": "5b2cf6e6-0718-442e-b657-921b5463df7e",
   "metadata": {},
   "outputs": [],
   "source": []
  }
 ],
 "metadata": {
  "kernelspec": {
   "display_name": "Python 3",
   "language": "python",
   "name": "python3"
  },
  "language_info": {
   "codemirror_mode": {
    "name": "ipython",
    "version": 3
   },
   "file_extension": ".py",
   "mimetype": "text/x-python",
   "name": "python",
   "nbconvert_exporter": "python",
   "pygments_lexer": "ipython3",
   "version": "3.8.8"
  }
 },
 "nbformat": 4,
 "nbformat_minor": 5
}
