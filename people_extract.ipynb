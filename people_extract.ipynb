{
 "cells": [
  {
   "cell_type": "code",
   "execution_count": 1,
   "metadata": {},
   "outputs": [],
   "source": [
    "from bs4 import BeautifulSoup as bs\n",
    "import lxml\n",
    "import os\n",
    "import json"
   ]
  },
  {
   "cell_type": "code",
   "execution_count": 42,
   "metadata": {},
   "outputs": [],
   "source": [
    "path = \"dcp-data/nameregs/\"\n",
    "files = os.listdir(path)"
   ]
  },
  {
   "cell_type": "code",
   "execution_count": 43,
   "metadata": {},
   "outputs": [],
   "source": [
    "def get_common_occupations():\n",
    "\n",
    "    tokens = ['occupation','I','a','c','d,''h','l','m','p','z']\n",
    "\n",
    "    occupations = []\n",
    "\n",
    "    for file in files:\n",
    "        with open(path+file,\"r\",encoding=\"utf8\") as file:\n",
    "            content = file.read()\n",
    "            bs_content = bs(content, \"lxml\")\n",
    "\n",
    "        for token in tokens:\n",
    "            try:\n",
    "                occ = bs_content.find(type=token).text.lower()\n",
    "                if occ != '' and ',' not in occ:\n",
    "                    occupations.append(occ)\n",
    "            except AttributeError:\n",
    "                pass\n",
    "\n",
    "    common_occs = set([\n",
    "        occ for occ in occupations\n",
    "        if occupations.count(occ) >= 5\n",
    "    ])\n",
    "    \n",
    "    return common_occs"
   ]
  },
  {
   "cell_type": "code",
   "execution_count": 45,
   "metadata": {},
   "outputs": [],
   "source": [
    "def extractPersonData(filepath, common_occs):\n",
    "    \n",
    "    person_dict = {}\n",
    "    \n",
    "    with open(filepath,\"r\",encoding=\"utf8\") as file:\n",
    "        content = file.read()\n",
    "        bs_content = bs(content, \"lxml\")\n",
    "        \n",
    "        # extract id \n",
    "        # (could cut this down to just an id number)\n",
    "        try:\n",
    "            person_dict['id'] = bs_content.person[\"xml:id\"]\n",
    "        except:\n",
    "            person_dict['id'] = None\n",
    "            \n",
    "        # extract sex\n",
    "        try: \n",
    "            sex = bs_content.sex[\"value\"]\n",
    "            if sex.upper() == 'M':\n",
    "                person_dict['sex'] = 'M'\n",
    "            elif sex.upper() in ['W', 'F']:\n",
    "                person_dict['sex'] = 'F'\n",
    "            else:\n",
    "                person_dict['sex'] = ''\n",
    "        except:\n",
    "            person_dict['sex'] = ''\n",
    "            \n",
    "        # extract name\n",
    "        names = []\n",
    "        try:\n",
    "            forenames = [\n",
    "                name.text for name in bs_content.find_all(\"forename\")\n",
    "            ]\n",
    "        except:\n",
    "            forenames = ['']\n",
    "        names += forenames\n",
    "        try: \n",
    "            surname = bs_content.surname.text\n",
    "        except:\n",
    "            surname = ''\n",
    "        names.append(surname)\n",
    "        person_dict['name'] = ' '.join(names)\n",
    "        \n",
    "        # extract occupation\n",
    "        for token in ['occupation','I','a','c','d,''h','l','m','p','z']:\n",
    "            try:\n",
    "                occ = bs_content.find(type=token).text.lower()\n",
    "                if occ in common_occs:\n",
    "                    person_dict['occupation'] = occ\n",
    "            except AttributeError:\n",
    "                pass\n",
    "        if not person_dict.get('occupation'):\n",
    "            person_dict['occupation'] = 'no common occupation'\n",
    "        \n",
    "    return person_dict"
   ]
  },
  {
   "cell_type": "code",
   "execution_count": 46,
   "metadata": {},
   "outputs": [],
   "source": [
    "path = \"dcp-data/nameregs/\"\n",
    "files = os.listdir(path)\n",
    "\n",
    "common_occs = get_common_occupations()\n",
    "\n",
    "people_dict = []\n",
    "for file in files:\n",
    "    person_data = extractPersonData(path+file, common_occs)\n",
    "    pid = person_data.get(\"id\")\n",
    "    people_dict.append(person_data)\n",
    "#     # some nameregs don't have an id; these aren't going to be any use to us\n",
    "#     if pid:\n",
    "#         people_dict[pid] = person_data\n",
    "        \n",
    "# dump to json\n",
    "with open('people.json', 'w') as jsonfile:\n",
    "    json.dump(people_dict, jsonfile)"
   ]
  },
  {
   "cell_type": "code",
   "execution_count": null,
   "metadata": {},
   "outputs": [],
   "source": []
  }
 ],
 "metadata": {
  "kernelspec": {
   "display_name": "Python 3",
   "language": "python",
   "name": "python3"
  },
  "language_info": {
   "codemirror_mode": {
    "name": "ipython",
    "version": 3
   },
   "file_extension": ".py",
   "mimetype": "text/x-python",
   "name": "python",
   "nbconvert_exporter": "python",
   "pygments_lexer": "ipython3",
   "version": "3.8.5"
  }
 },
 "nbformat": 4,
 "nbformat_minor": 4
}
