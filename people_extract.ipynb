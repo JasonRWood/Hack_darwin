{
 "cells": [
  {
   "cell_type": "code",
   "execution_count": 1,
   "id": "4b024bf2",
   "metadata": {},
   "outputs": [],
   "source": [
    "from bs4 import BeautifulSoup as bs\n",
    "import lxml\n",
    "import os\n",
    "import json"
   ]
  },
  {
   "cell_type": "code",
   "execution_count": 66,
   "id": "6e6f9907",
   "metadata": {},
   "outputs": [],
   "source": [
    "def extractPersonData(filepath):\n",
    "    \n",
    "    person_dict = {}\n",
    "    \n",
    "    with open(filepath,\"r\") as file:\n",
    "        content = file.read()\n",
    "        bs_content = bs(content, \"lxml\")\n",
    "        \n",
    "        # extract id \n",
    "        # (could cut this down to just an id number)\n",
    "        try:\n",
    "            person_dict['id'] = bs_content.person[\"xml:id\"]\n",
    "        except:\n",
    "            person_dict['id'] = None\n",
    "            \n",
    "        # extract sex\n",
    "        try: \n",
    "            sex = bs_content.sex[\"value\"]\n",
    "            if sex.upper() == 'M':\n",
    "                person_dict['sex'] = 'M'\n",
    "            elif sex.upper() in ['W', 'F']:\n",
    "                person_dict['sex'] = 'F'\n",
    "            else:\n",
    "                person_dict['sex'] = ''\n",
    "        except:\n",
    "            person_dict['sex'] = ''\n",
    "            \n",
    "        # extract name\n",
    "        names = []\n",
    "        try:\n",
    "            forenames = [\n",
    "                name.text for name in bs_content.find_all(\"forename\")\n",
    "            ]\n",
    "        except:\n",
    "            forenames = ['']\n",
    "        names += forenames\n",
    "        try: \n",
    "            surname = bs_content.surname.text\n",
    "        except:\n",
    "            surname = ''\n",
    "        names.append(surname)\n",
    "        person_dict['name'] = ' '.join(names)\n",
    "        \n",
    "        # extract keywords\n",
    "        try:\n",
    "            keywords = bs_content.find(type=\"keywords\").find_all(\"term\")\n",
    "            keywords = [\n",
    "                (term[\"type\"], term.text) for term in keywords\n",
    "            ]\n",
    "        except:\n",
    "            keywords = []\n",
    "        person_dict['keywords'] = keywords\n",
    "        \n",
    "    return person_dict"
   ]
  },
  {
   "cell_type": "code",
   "execution_count": 79,
   "id": "a103d565",
   "metadata": {},
   "outputs": [],
   "source": [
    "path = \"dcp-data/nameregs/\"\n",
    "files = os.listdir(path)\n",
    "\n",
    "people_dict = {}\n",
    "for file in files:\n",
    "    person_data = extractPersonData(path+file)\n",
    "    pid = person_data.get(\"id\")\n",
    "    # some nameregs don't have an id; these aren't going to be any use to us\n",
    "    if pid:\n",
    "        people_dict[pid] = person_data\n",
    "        \n",
    "# dump to json\n",
    "with open('people.json', 'w') as jsonfile:\n",
    "    json.dump(people_dict, jsonfile)"
   ]
  }
 ],
 "metadata": {
  "kernelspec": {
   "display_name": "Python 3",
   "language": "python",
   "name": "python3"
  },
  "language_info": {
   "codemirror_mode": {
    "name": "ipython",
    "version": 3
   },
   "file_extension": ".py",
   "mimetype": "text/x-python",
   "name": "python",
   "nbconvert_exporter": "python",
   "pygments_lexer": "ipython3",
   "version": "3.8.10"
  }
 },
 "nbformat": 4,
 "nbformat_minor": 5
}
